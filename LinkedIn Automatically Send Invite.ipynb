{
 "cells": [
  {
   "cell_type": "code",
   "execution_count": 9,
   "metadata": {},
   "outputs": [],
   "source": [
    "from selenium import webdriver"
   ]
  },
  {
   "cell_type": "code",
   "execution_count": 1,
   "metadata": {},
   "outputs": [],
   "source": [
    "# Change the information in the below dictionary\n",
    "Info = {\n",
    "    # Your account info\n",
    "    'username': 'XXX',\n",
    "    'password': 'XXX',\n",
    "    \n",
    "    # the homepage link of the person you want to add \n",
    "    'target_link': 'https://www.linkedin.com/in/XXX',\n",
    "}\n",
    "\n",
    "# The invitation text you want to send, No more than 300 words\n",
    "invite_text = \"XXX\""
   ]
  },
  {
   "cell_type": "code",
   "execution_count": 2,
   "metadata": {},
   "outputs": [],
   "source": [
    "def LinkedIn_Add_Connect(Info, invite_text):\n",
    "    \"\"\"\n",
    "    func: automatically add people and send invitation text\n",
    "    \"\"\"\n",
    "    # the path of chromedriver\n",
    "    chromedriver = path\n",
    "    # Open LinkedIn \n",
    "    url = 'https://www.linkedin.com'\n",
    "    browser = webdriver.Chrome(chromedriver)\n",
    "    browser.get(url)\n",
    "    # Sing in LinkedIn\n",
    "    username_field = browser.find_element_by_id('login-email')\n",
    "    password_field = browser.find_element_by_id(\"login-password\")\n",
    "    \n",
    "    username = Info.get('username')\n",
    "    password = Info.get('password')\n",
    "    username_field.send_keys(username)\n",
    "    browser.implicitly_wait(1)\n",
    "    password_field.send_keys(password)\n",
    "    browser.implicitly_wait(1)\n",
    "    # Click for sign in \n",
    "    browser.find_element_by_id('login-submit').click()\n",
    "    # Check tab title\n",
    "    print(\"Tag title: \" + browser.title)\n",
    "\n",
    "    # Open new page\n",
    "    browser.execute_script(\"window.open('{}', 'new_window')\".format(Info.get('target_link')))\n",
    "    # Switch to the new page\n",
    "    # https://stackoverflow.com/questions/37088589/selenium-wont-open-a-new-url-in-a-new-tab-python-chrome\n",
    "    browser.switch_to.window(browser.window_handles[1])\n",
    "    # Check title\n",
    "    print(\"Tag title: \" + browser.title)\n",
    "    \n",
    "    # Click Connect\n",
    "    browser.find_element_by_class_name('pv-s-profile-actions').click()\n",
    "    \n",
    "    # Click add note\n",
    "    browser.find_element_by_class_name('send-invite__actions').click()\n",
    "    \n",
    "    invite_field = browser.find_element_by_id('custom-message')\n",
    "    # Write message\n",
    "    invite_field.send_keys(invite_text)\n",
    "    # Click send message button\n",
    "    browser.find_element_by_css_selector('.button-primary-large.ml1').click()\n",
    "    # Quick \n",
    "    browser.quit()\n",
    "    print('Success!')"
   ]
  },
  {
   "cell_type": "code",
   "execution_count": null,
   "metadata": {},
   "outputs": [],
   "source": [
    "if __name__ == \"__main__\":\n",
    "    LinkedIn_Add_Connect(Info, invite_text)"
   ]
  },
  {
   "cell_type": "code",
   "execution_count": null,
   "metadata": {},
   "outputs": [],
   "source": []
  }
 ],
 "metadata": {
  "kernelspec": {
   "display_name": "Python 3",
   "language": "python",
   "name": "python3"
  },
  "language_info": {
   "codemirror_mode": {
    "name": "ipython",
    "version": 3
   },
   "file_extension": ".py",
   "mimetype": "text/x-python",
   "name": "python",
   "nbconvert_exporter": "python",
   "pygments_lexer": "ipython3",
   "version": "3.6.0"
  }
 },
 "nbformat": 4,
 "nbformat_minor": 2
}
